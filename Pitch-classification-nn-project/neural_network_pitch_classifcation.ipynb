{
  "cells": [
    {
      "cell_type": "markdown",
      "metadata": {
        "id": "view-in-github",
        "colab_type": "text"
      },
      "source": [
        "<a href=\"https://colab.research.google.com/github/Benk01/Baseball-statistical-analysis/blob/main/neural_network_pitch_classifcation.ipynb\" target=\"_parent\"><img src=\"https://colab.research.google.com/assets/colab-badge.svg\" alt=\"Open In Colab\"/></a>"
      ]
    },
    {
      "cell_type": "markdown",
      "metadata": {
        "id": "iHh7d0gDBQ4x"
      },
      "source": [
        "# Classifying Baseball Pitches with PyTorch Neural Networks\n",
        "\n",
        "This notebook uses Statcast-level metrics to train a neural network to identify pitches such as fastballs, sliders, and curveballs.\n",
        "\n",
        "### Features considered:\n",
        "- Release speed\n",
        "- Spin rate\n",
        "- Horizontal/Vertical break (`pfx_x`, `pfx_z`)\n",
        "- Release extension\n"
      ],
      "id": "iHh7d0gDBQ4x"
    },
    {
      "cell_type": "code",
      "execution_count": null,
      "metadata": {
        "id": "rBOhgFYqBQ4z"
      },
      "outputs": [],
      "source": [
        "# Install required packages\n",
        "!pip install pybaseball --quiet"
      ],
      "id": "rBOhgFYqBQ4z"
    },
    {
      "cell_type": "code",
      "execution_count": null,
      "metadata": {
        "id": "UZRDZa8MBQ40"
      },
      "outputs": [],
      "source": [
        "import pandas as pd\n",
        "import numpy as np\n",
        "import torch\n",
        "import torch.nn as nn\n",
        "import torch.optim as optim\n",
        "from torch.utils.data import DataLoader, Dataset\n",
        "from pybaseball import statcast\n",
        "from sklearn.preprocessing import StandardScaler, LabelEncoder\n",
        "from sklearn.metrics import classification_report, confusion_matrix\n",
        "import matplotlib.pyplot as plt\n",
        "import seaborn as sns"
      ],
      "id": "UZRDZa8MBQ40"
    },
    {
      "cell_type": "code",
      "execution_count": null,
      "metadata": {
        "id": "OJgx4Pe8BQ40"
      },
      "outputs": [],
      "source": [
        "# Using Statcast data from pybaseball library\n",
        "data = statcast(start_dt=\"2025-05-01\", end_dt=\"2025-05-10\")\n",
        "\n",
        "# Features used:\n",
        "# Pitch speed (at time of release), Pitch Spin Rate, Horizontal Break, Vertical Break, Release Extension\n",
        "features = [\n",
        "    'release_speed', 'release_spin_rate',\n",
        "    'pfx_x', 'pfx_z',\n",
        "    'release_extension'\n",
        "]\n",
        "label_col = 'pitch_type'\n",
        "\n",
        "# Map pitch abreviations to full names for convenience\n",
        "pitch_type_names = {\n",
        "    'FF': 'Four-Seam Fastball',\n",
        "    'SL': 'Slider',\n",
        "    'CU': 'Curveball',\n",
        "    'CH': 'Changeup',\n",
        "    'SI': 'Sinker',\n",
        "    'FC': 'Cutter',\n",
        "    'FS': 'Splitter',\n",
        "}\n",
        "valid_pitch_types = set(pitch_type_names.keys())\n",
        "\n",
        "# Filter and drop missing values\n",
        "data = data.dropna(subset=features + [label_col])\n",
        "df = data[data[label_col].isin(valid_pitch_types)][features + [label_col]].copy()\n"
      ],
      "id": "OJgx4Pe8BQ40"
    },
    {
      "cell_type": "code",
      "execution_count": null,
      "metadata": {
        "id": "ut6UJizXBQ40"
      },
      "outputs": [],
      "source": [
        "# Transform pitch type labels to integers so they can be used in NN\n",
        "le = LabelEncoder()\n",
        "df[label_col] = le.fit_transform(df[label_col])\n",
        "target_names = [pitch_type_names[code] for code in le.classes_]\n",
        "\n",
        "\n",
        "# Standardize features on a mean = 0, stdev = 1 scale, so all features have the same influence\n",
        "scaler = StandardScaler()\n",
        "X = scaler.fit_transform(df[features])\n",
        "\n",
        "# Extract labels for classification (Pitch type)\n",
        "y = df[label_col].values\n",
        "\n",
        "# Convert to tensors\n",
        "X_tensor = torch.tensor(X, dtype=torch.float32)\n",
        "y_tensor = torch.tensor(y, dtype=torch.long)"
      ],
      "id": "ut6UJizXBQ40"
    },
    {
      "cell_type": "markdown",
      "source": [],
      "metadata": {
        "id": "MwVk7mdg56TO"
      },
      "id": "MwVk7mdg56TO"
    },
    {
      "cell_type": "code",
      "execution_count": null,
      "metadata": {
        "id": "DE5zLB4dBQ40"
      },
      "outputs": [],
      "source": [
        "# Use a class that inherits from Pytorch Dataset to store pitch data\n",
        "class PitchDataset(torch.utils.data.Dataset):\n",
        "    def __init__(self, X, y):\n",
        "        self.X = X\n",
        "        self.y = y\n",
        "    def __len__(self):\n",
        "        return len(self.X)\n",
        "    def __getitem__(self, idx):\n",
        "        return self.X[idx], self.y[idx]\n",
        "\n",
        "# init dataset with input data (X_tensor) and target labels (y_tensor)\n",
        "dataset = PitchDataset(X_tensor, y_tensor)\n",
        "\n",
        "# Split into training and test sets\n",
        "# 80/20 is standard split\n",
        "train_size = int(0.8 * len(dataset))\n",
        "test_size = len(dataset) - train_size\n",
        "train_set, test_set = torch.utils.data.random_split(dataset, [train_size, test_size])\n",
        "\n",
        "train_loader = DataLoader(train_set, batch_size=64, shuffle=True)\n",
        "test_loader = DataLoader(test_set, batch_size=64)\n"
      ],
      "id": "DE5zLB4dBQ40"
    },
    {
      "cell_type": "code",
      "execution_count": null,
      "metadata": {
        "id": "skGJovcqBQ41"
      },
      "outputs": [],
      "source": [
        "# Custom neural network class\n",
        "class PitchClassifier(nn.Module):\n",
        "  # input_dim: number of input features\n",
        "  # output_dim: number of output classes (pitch types)\n",
        "    def __init__(self, input_dim, output_dim):\n",
        "        super().__init__()\n",
        "        # Keeping it simple with Sequential layering model\n",
        "        # Separated Linear layers with ReLU (if (x > 0): x, else: 0) to model non-linear relationships\n",
        "        # A stack of only Linear layers is an over-complicated linear regression model\n",
        "        self.net = nn.Sequential(\n",
        "            # Input layer transforms vector of size (num of features) to 20\n",
        "            nn.Linear(input_dim, 20),\n",
        "            # ReLU adds non-linearity to the stack to avoid vanishing gradients\n",
        "            nn.ReLU(),\n",
        "            # Transforms vector from 20 to 10\n",
        "            nn.Linear(20, 10),\n",
        "            nn.ReLU(),\n",
        "            # Transforms vector from 10 to output_dimension size (number of output classes)\n",
        "            nn.Linear(10, output_dim)\n",
        "        )\n",
        "    def forward(self, x):\n",
        "        return self.net(x)\n",
        "\n",
        "model = PitchClassifier(input_dim=X.shape[1], output_dim=len(le.classes_))\n"
      ],
      "id": "skGJovcqBQ41"
    },
    {
      "cell_type": "code",
      "execution_count": null,
      "metadata": {
        "id": "pYifK884BQ41"
      },
      "outputs": [],
      "source": [
        "# CrossEntropyLoss measures the difference between the predicted and true distributions\n",
        "# Commonly used for multi-class classification\n",
        "loss_fn = nn.CrossEntropyLoss()\n",
        "\n",
        "# Adjusts the model's weights to reduce loss\n",
        "# Adam is an advanced optimzer that is an improvement over gradient descent since it uses momentum and adaptive learning rates\n",
        "optimizer = optim.Adam(model.parameters(), lr=0.001)\n",
        "\n",
        "for epoch in range(20):\n",
        "    model.train()\n",
        "    total_loss = 0\n",
        "    for X_batch, y_batch in train_loader:\n",
        "        # resets the gradient after every pass\n",
        "        optimizer.zero_grad()\n",
        "        # runs a foward pass by transforming the inputs through all layers of the NN\n",
        "        out = model(X_batch)\n",
        "        # calculates the loss or how badly the model performed\n",
        "        loss = loss_fn(out, y_batch)\n",
        "        # backwards pass: compute the gradients of the loss with respect to each parameter\n",
        "        # A positive gradient means increasing that weight increases the loss (bad), so we should decrease it.\n",
        "        # A negative gradient means increasing that weight decreases the loss (good), so we should increase it.\n",
        "        loss.backward()\n",
        "        # applies the gradients and updatest the weights using the optimizer\n",
        "        optimizer.step()\n",
        "        total_loss += loss.item()\n",
        "    print(f\"Epoch {epoch+1}, Loss: {total_loss:.4f}\")\n"
      ],
      "id": "pYifK884BQ41"
    },
    {
      "cell_type": "code",
      "source": [
        "model.eval()\n",
        "all_preds = []\n",
        "all_targets = []\n",
        "\n",
        "# Turn off gradient tracking for faster evaluation\n",
        "with torch.no_grad():\n",
        "    for X_batch, y_batch in test_loader:\n",
        "        # forward pass through the model\n",
        "        out = model(X_batch)\n",
        "        # get the predicted class by taking the index with the highest confidence score\n",
        "        preds = torch.argmax(out, dim=1)\n",
        "        # totals predictions for analysis\n",
        "        all_preds.extend(preds.numpy())\n",
        "        all_targets.extend(y_batch.numpy())\n",
        "\n",
        "# print evaluation metrics\n",
        "labels = list(range(len(le.classes_)))\n",
        "print(classification_report(all_targets, all_preds, labels=labels, target_names=target_names))\n",
        "\n",
        "# Confusion Matrix shows true/false positive predictions\n",
        "cm = confusion_matrix(all_targets, all_preds, labels=labels)\n",
        "plt.figure(figsize=(10, 8))\n",
        "sns.heatmap(cm, annot=True, fmt=\"d\", xticklabels=target_names, yticklabels=target_names, cmap=\"Blues\")\n",
        "plt.xlabel(\"Predicted\")\n",
        "plt.ylabel(\"True\")\n",
        "plt.title(\"Pitch Type Confusion Matrix (7 Pitch Types)\")\n",
        "plt.show()\n"
      ],
      "metadata": {
        "id": "nqe7QVgi8A0L"
      },
      "id": "nqe7QVgi8A0L",
      "execution_count": null,
      "outputs": []
    }
  ],
  "metadata": {
    "kernelspec": {
      "display_name": "Python 3",
      "language": "python",
      "name": "python3"
    },
    "language_info": {
      "name": "python",
      "version": "3.x"
    },
    "colab": {
      "provenance": [],
      "include_colab_link": true
    }
  },
  "nbformat": 4,
  "nbformat_minor": 5
}